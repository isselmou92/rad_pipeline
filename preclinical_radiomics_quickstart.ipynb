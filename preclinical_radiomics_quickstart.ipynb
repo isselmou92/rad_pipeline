{
 "cells": [
  {
   "cell_type": "markdown",
   "id": "1bb9844a",
   "metadata": {},
   "source": [
    "# Preclinical Radiomics Pipeline – Quick‑Start Notebook\n",
    "\n",
    "This Jupyter notebook reproduces the command‑line examples from the **Quick Start** section of the **Preclinical Radiomics Pipeline**.\n"
   ]
  },
  {
   "cell_type": "code",
   "execution_count": null,
   "id": "7681338d",
   "metadata": {},
   "outputs": [],
   "source": [
    "# --- Optional: install package in editable mode ---------------------------\n",
    "# If you are running this inside the repository for the first time, you can\n",
    "# uncomment and execute the following lines:\n",
    "# !python -m pip install --upgrade pip\n",
    "# !pip install -e .\n",
    "# -------------------------------------------------------------------------"
   ]
  },
  {
   "cell_type": "markdown",
   "id": "1d7045df",
   "metadata": {},
   "source": [
    "## 1. Slice an enhanced CT DICOM volume"
   ]
  },
  {
   "cell_type": "code",
   "execution_count": null,
   "id": "587de0ff",
   "metadata": {},
   "outputs": [],
   "source": [
    "!python src/rad_pipeline/io/dicom_slices.py \\\n",
    "    data/slice-volume/20241031094809_CT_ISRATV_0.dcm \\\n",
    "    CT_Volume.dcm \\\n",
    "    --orientations original ray"
   ]
  },
  {
   "cell_type": "markdown",
   "id": "0ff21406",
   "metadata": {},
   "source": [
    "## 2. Convert LET map to RT‑Dose DICOM"
   ]
  },
  {
   "cell_type": "code",
   "execution_count": null,
   "id": "98fbefc5",
   "metadata": {},
   "outputs": [],
   "source": [
    "!python src/rad_pipeline/io/dose_conversion.py \\\n",
    "    data/dose-convert/template_dose.dcm \\\n",
    "    data/dose-convert/dose_npy.npy \\\n",
    "    data/dose-convert/let_npy.npy \\\n",
    "    data/dose-convert/out_let_map.dcm"
   ]
  },
  {
   "cell_type": "markdown",
   "id": "271626e3",
   "metadata": {},
   "source": [
    "## 3. Extract radiomic features"
   ]
  },
  {
   "cell_type": "code",
   "execution_count": null,
   "id": "013fbd82",
   "metadata": {},
   "outputs": [],
   "source": [
    "!python src/rad_pipeline/features/radiomics_pipeline.py \\\n",
    "    --mice-dir data/MR \\\n",
    "    --mice Mouse_01 \\\n",
    "    --out-dir data/Radiomics_Features"
   ]
  },
  {
   "cell_type": "markdown",
   "id": "f4ed59d8",
   "metadata": {},
   "source": [
    "## 4. Segment dose and compute DVH statistics"
   ]
  },
  {
   "cell_type": "code",
   "execution_count": null,
   "id": "fb33a659",
   "metadata": {},
   "outputs": [],
   "source": [
    "!python src/rad_pipeline/segmentation/mr_dose.py \\\n",
    "    --mr data/segment-dose/mr/mr_volume.nii \\\n",
    "    --dose data/segment-dose/dose/dose_volume.nii \\\n",
    "    --atlas data/segment-dose/atlas/registered_atlas.nii \\\n",
    "    --hierarchy-csv data/segment-dose/atlas/registered_atlas_labels.csv"
   ]
  },
  {
   "cell_type": "markdown",
   "id": "1a2cf4df",
   "metadata": {},
   "source": [
    "## 5. Extract Hippocampus from DSURQE atlas (left+right merged)"
   ]
  },
  {
   "cell_type": "code",
   "execution_count": null,
   "id": "ab35cb34",
   "metadata": {},
   "outputs": [],
   "source": [
    "!python src/rad_pipeline/segmentation/atlas_regions_nifti.py \\\n",
    "    --atlas dsurqe \\\n",
    "    --label data/segment-dose/atlas/registered_atlas.nii \\\n",
    "    --hierarchy-csv data/segment-dose/atlas/registered_atlas_labels.csv \\\n",
    "    --region \"Hippocampal region\" \\\n",
    "    --side both \\\n",
    "    --merge-sides \\\n",
    "    --smooth-radius 0 \\\n",
    "    --out-dir data/segment-atlas"
   ]
  },
  {
   "cell_type": "markdown",
   "id": "cca65173",
   "metadata": {},
   "source": [
    "## 6. Extract Cerebellum from Digimouse atlas"
   ]
  },
  {
   "cell_type": "code",
   "execution_count": null,
   "id": "1335503a",
   "metadata": {},
   "outputs": [],
   "source": [
    "!python src/rad_pipeline/segmentation/atlas_regions_nifti.py \\\n",
    "    --atlas digimouse \\\n",
    "    --label data/segment-dose/atlas/atlas_380x992x208.img \\\n",
    "    --hierarchy-csv data/segment-dose/atlas/atlas_380x992x208.txt \\\n",
    "    --region \"cerebellum\" \\\n",
    "    --smooth-radius 0 \\\n",
    "    --out-dir data/segment-atlas"
   ]
  },
  {
   "cell_type": "markdown",
   "id": "67823780",
   "metadata": {},
   "source": [
    "## 7. Create PCA analysis"
   ]
  },
  {
   "cell_type": "code",
   "execution_count": null,
   "id": "778c2de9",
   "metadata": {},
   "outputs": [],
   "source": [
    "!python src/rad_pipeline/analysis/pca.py \\\n",
    "    --csv data/Radiomics_Features/combined_features_all_mice.csv"
   ]
  },
  {
   "cell_type": "markdown",
   "source": [
    "## Output"
   ],
   "metadata": {
    "collapsed": false
   },
   "id": "fae071a02826882f"
  },
  {
   "cell_type": "markdown",
   "id": "7bee90a8",
   "metadata": {},
   "source": [
    "\n",
    "\n",
    "* individual CT DICOM slices (`CT_Volume.dcm`)\n",
    "* a dose DICOM with LET map (`out_let_map.dcm`)\n",
    "* radiomics features under `data/Radiomics_Features/`\n",
    "* segmentation outputs in `data/segment-atlas/`\n",
    "* PCA scatter/loadings figure (output of the PCA script)\n"
   ]
  },
  {
   "cell_type": "markdown",
   "source": [],
   "metadata": {
    "collapsed": false
   },
   "id": "8f9f111cf1754a51"
  }
 ],
 "metadata": {},
 "nbformat": 4,
 "nbformat_minor": 5
}
